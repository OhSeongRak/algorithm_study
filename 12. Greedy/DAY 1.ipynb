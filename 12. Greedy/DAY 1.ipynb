{
 "cells": [
  {
   "cell_type": "code",
   "execution_count": 2,
   "metadata": {},
   "outputs": [],
   "source": [
    "from typing import *"
   ]
  },
  {
   "cell_type": "markdown",
   "metadata": {},
   "source": [
    "# Gas station\n",
    "\n",
    "\n",
    "- Greedy, List"
   ]
  },
  {
   "cell_type": "code",
   "execution_count": null,
   "metadata": {},
   "outputs": [],
   "source": [
    "# 시작지점 후보에서 제외되는 지점 : gas[i] - cost[i] < 0인 지점 (시작지점에서 주유를 하고서도 다음 지점까지 이동하지 못함)\n",
    "# => 분명 대부분의 연산에서 컴퓨팅 시간을 줄여줄 것임. 모든 지점이 시작지점이 될 수 있는 후보라면, 문제의 조건인 unique solution에 위배되며 어떤 지점을 선택하든 정답 \n",
    "\n",
    "# remains[i] = gas[i] - cost[i], remains[i]는 i+1 지점에 도착했을 때 남은 gas\n",
    "# remains*2(출발지점으로부터 한바퀴, deque.rotate()는 O(K))한 다음 [k:k+len] 범위의 누적합(itertools.accumulate()) 계산\n",
    "# 누적합 계산 itertools.accumulate()는 리스트 컴프리헨션 보다 2배 이상의 훨씬 빠른 속도"
   ]
  },
  {
   "cell_type": "code",
   "execution_count": 19,
   "metadata": {},
   "outputs": [],
   "source": [
    "from itertools import accumulate\n",
    "\n",
    "# TLE, 먼저 예외처리를 추가해주니 한 개의 테스트 케이스는 통과\n",
    "def TLEcanCompleteCircuit(gas: List[int], cost: List[int]) -> int:\n",
    "    # 예외처리\n",
    "    if sum(gas) < sum(cost):\n",
    "        return -1\n",
    "    \n",
    "    remains = [g - c for g, c in zip(gas, cost)] * 2\n",
    "    length = len(gas)\n",
    "    \n",
    "    for i in range(length):\n",
    "        # 출발점 후보가 될 수 없는 지점에 대해 예외처리\n",
    "        if gas[i] - cost[i] < 0:\n",
    "            continue\n",
    "        # 출발점이 안되는 모든 지점에 대해서도 누적합 계산 => TLE\n",
    "        if(all(r >= 0 for r in list(accumulate(remains[i:i+length])))):\n",
    "            return i\n",
    "    \n",
    "    return -1"
   ]
  },
  {
   "cell_type": "code",
   "execution_count": null,
   "metadata": {},
   "outputs": [],
   "source": [
    "# TLE\n",
    "from itertools import accumulate\n",
    "\n",
    "gas, cost = [1, 2, 3, 4, 5], [3, 4, 5, 1, 2]\n",
    "length = len(gas)\n",
    "\n",
    "remains = [g - c for g,c in zip(gas,cost)] * 2\n",
    "for i in range(length):\n",
    "    print(list(accumulate(remains[i:i+length])))"
   ]
  },
  {
   "cell_type": "code",
   "execution_count": 22,
   "metadata": {},
   "outputs": [],
   "source": [
    "# TLE 원인: 결국 예외처리를 해줘도 모든 지점이 출발점 후보가 될 수 있고, 그 지점들에 대해 모두 누적합을 계산해주면 TLE, 혹은 MLE에 걸린다.\n",
    "# 리스트를 생성해 누적합 계산을 하지 말고, 변수로 더하다가 출발지점이 될 수 없음을 알았을 때, 밟아온 자취들은 모두 출발지점이 될 수 없음이 보장되므로\n",
    "# 그 때 시작지점을 현재의 다음 지점, 남은 가스를 0으로 초기화\n",
    "\n",
    "# 탐욕 선택 속성과 최적 부분 구조를 모두 만족\n",
    "# 시작 지점(start)는 유일한 지점. 남은 가스 remains를 변수로 둬 시작지점 후보가 될 수 없는 순간 시작지점을 그 다음 지점으로하고 remains = 0\n",
    "# 시작 지점이 그 다음 지점(i+1)이 될 수 있는 이유 : 이미 밟아온 자취들에서 시작해도, 어짜피 다시 지금 걸린 그 지점에서 똑같이 걸릴 것이기 때문\n",
    "    \n",
    "\n",
    "def canCompleteCircuit(gas: List[int], cost: List[int]) -> int:\n",
    "    # 예외처리\n",
    "    if sum(gas) < sum(cost):\n",
    "        return -1\n",
    "        \n",
    "    start = remains = 0\n",
    "    \n",
    "    for i in range(len(gas)):\n",
    "        # 출발점이 될 수 없음을 알았을 때\n",
    "        if remains + gas[i] < cost[i]:\n",
    "            start, remains = i+1, 0\n",
    "        else:\n",
    "            remains += gas[i] - cost[i]\n",
    "            \n",
    "    return start"
   ]
  },
  {
   "cell_type": "markdown",
   "metadata": {},
   "source": [
    "# Container With Most Water\n",
    "- Two Pointer, Greedy"
   ]
  },
  {
   "cell_type": "code",
   "execution_count": 30,
   "metadata": {},
   "outputs": [],
   "source": [
    "# 투 포인터 + Greedy\n",
    "# left와 right 포인터를 이동하는 작업은 서로에게 영향을 주지 않고(탐욕 선택 속성),\n",
    "# 한 포인터를 최대한 이동하는 작업이 전체 최적해를 찾는 방법이다(최적 부분 구조)\n",
    "\n",
    "def ExplainMaxArea(height: List[int]) -> int:\n",
    "    l, r = 0, len(height) - 1\n",
    "    level = 0\n",
    "    \n",
    "    while l < r:\n",
    "        # left 높이보다 right 높이가 크거나 같다면\n",
    "        if height[l] <= height[r]:\n",
    "            # 그 때의 높이를 계산해 최대 수위를 갱신한 다음\n",
    "            h = height[l]\n",
    "            level = max(level, h * (r - l))\n",
    "            # 현재 left의 높이보다 큰 높이까지 left를 이동\n",
    "            # 이 때 최적화를 위해, left 지점을 한 번 이동한 다음 비교 시작하는게 좋다.\n",
    "            # 가독성을 위해 height[l] <= h를 하면, 앞으로의 높이가 이전과 같은 경우 필요하지 않아도 while문을 돌아야 한다. \n",
    "            l += 1\n",
    "            # 현재 left의 높이 이하의 점들은 더 높은 수위를 가질 수 없다\n",
    "            while l < r and height[l] < h:\n",
    "                l += 1\n",
    "        else:\n",
    "            h = height[r]\n",
    "            level = max(level, h * (r - l))\n",
    "            r -= 1\n",
    "            while l < r and height[r] < h:\n",
    "                r -= 1\n",
    "    \n",
    "    return level"
   ]
  },
  {
   "cell_type": "code",
   "execution_count": 32,
   "metadata": {},
   "outputs": [],
   "source": [
    "def maxArea(height: List[int]) -> int:\n",
    "    l, r = 0, len(height) - 1\n",
    "    level = 0\n",
    "    \n",
    "    while l < r:\n",
    "        if height[l] <= height[r]:\n",
    "            h = height[l]\n",
    "            level = max(level, h * (r - l))\n",
    "            \n",
    "            l += 1\n",
    "            while l < r and height[l] < h:\n",
    "                l += 1\n",
    "        else:\n",
    "            h = height[r]\n",
    "            level = max(level, h * (r - l))\n",
    "            \n",
    "            r -= 1\n",
    "            while l < r and height[r] < h:\n",
    "                r -= 1\n",
    "    \n",
    "    return level"
   ]
  },
  {
   "cell_type": "code",
   "execution_count": 33,
   "metadata": {},
   "outputs": [
    {
     "data": {
      "text/plain": [
       "49"
      ]
     },
     "execution_count": 33,
     "metadata": {},
     "output_type": "execute_result"
    }
   ],
   "source": [
    "height = [1, 8, 6, 2, 5, 4, 8, 3, 7]\n",
    "maxArea(height)"
   ]
  },
  {
   "cell_type": "markdown",
   "metadata": {},
   "source": [
    "# Partition Labels\n",
    "- Counter, Two Pointer"
   ]
  },
  {
   "cell_type": "code",
   "execution_count": 35,
   "metadata": {},
   "outputs": [],
   "source": [
    "# 문제 설명이 이미 Greedy 조건을 만족 (한번이라도 본 문자는 나눠진 문자열 안에 모두 포함되어야 한다)\n",
    "# Counter() 이용\n",
    "from collections import Counter\n",
    "\n",
    "def partitionLabels(s: str) -> List[int]:\n",
    "    count = Counter(s)\n",
    "    seen, answer = set(), []\n",
    "    end = 0\n",
    "    \n",
    "    for i, c in enumerate(s):\n",
    "        # 처음 보는 문자들은 seen에 추가\n",
    "        if c not in seen:\n",
    "            seen.add(c)\n",
    "        # 문자들 count 줄인다\n",
    "        count[c] -= 1\n",
    "        \n",
    "        # 분리된 문자열 안에 그 문자가 다 들어갔으면 seen에서 제거\n",
    "        if not count[c]:\n",
    "            seen.remove(c)\n",
    "        \n",
    "        # 다 봤으면, 문자열 길이를 answer에 추가하고 마지막 지점 기억\n",
    "        if not seen:\n",
    "            answer.append(i - end + 1)\n",
    "            end = i + 1\n",
    "    \n",
    "    return answer"
   ]
  },
  {
   "cell_type": "code",
   "execution_count": 38,
   "metadata": {},
   "outputs": [],
   "source": [
    "# Two Pointer\n",
    "def partitionLabelsTwoPointer(s: str) -> List[int]:\n",
    "    l = r = 0\n",
    "    last = {c:i for i, c in enumerate(s)}\n",
    "    seen, answer = set(), []\n",
    "    \n",
    "    for l, c in enumerate(s):\n",
    "        # last에는 그 문자가 마지막으로 등장하는 인덱스만 저장, 새로운 문자를 볼 때마다 그 문자는 이번 문자열 안에 모두 포함되어야하니\n",
    "        # r을 그 문자에 대한 마지막 인덱스로 갱신, 갱신하다가 만나면 그때 길이 반환\n",
    "        r = max(r, last[c])\n",
    "        \n",
    "        if l == r:\n",
    "            answer.append(r - l + 1)\n",
    "    \n",
    "    return answer"
   ]
  },
  {
   "cell_type": "code",
   "execution_count": null,
   "metadata": {},
   "outputs": [],
   "source": []
  }
 ],
 "metadata": {
  "kernelspec": {
   "display_name": "Python 3",
   "language": "python",
   "name": "python3"
  },
  "language_info": {
   "codemirror_mode": {
    "name": "ipython",
    "version": 3
   },
   "file_extension": ".py",
   "mimetype": "text/x-python",
   "name": "python",
   "nbconvert_exporter": "python",
   "pygments_lexer": "ipython3",
   "version": "3.8.3"
  }
 },
 "nbformat": 4,
 "nbformat_minor": 4
}
