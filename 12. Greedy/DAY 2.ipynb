{
 "cells": [
  {
   "cell_type": "code",
   "execution_count": 2,
   "metadata": {},
   "outputs": [],
   "source": [
    "from typing import *"
   ]
  },
  {
   "cell_type": "markdown",
   "metadata": {},
   "source": [
    "# Enforcement Camera\n",
    "- Greedy, List"
   ]
  },
  {
   "cell_type": "code",
   "execution_count": 2,
   "metadata": {},
   "outputs": [],
   "source": [
    "def solution(routes):\n",
    "    cctv = 1\n",
    "    # 진입 지점을 기준으로 오름차순 정렬한 다음 최저 진입 지점의 진출점을 저장한다(end)\n",
    "    routes.sort()\n",
    "    _, end = routes[0]\n",
    "    \n",
    "    for s, e in routes[1:]:\n",
    "        if s <= end:\n",
    "            # 진입 지점과 진출 지점이 end을 사이에 두고 있으면 이전 왼쪽 지점에서 출발하는 자동차가 찍혀야하는 cctv에 나오는 것이 보장된다.\n",
    "            # 최적 부분 구조를 만족, 왼쪽 진입 지점에서 출발하는 자동차는 cctv 수를 최소로 하고자 최대한 오른쪽에서 찍히게끔 설치하는 것이 최적\n",
    "            # start-----s-----end-----e-----\n",
    "            if end <= e:\n",
    "                continue\n",
    "            # 이번 진입 자동차의 진출 지점이 이전 진입 자동차의 진출 지점보다 이전에 있다면, \n",
    "            # 역으로 이전 왼쪽에서 진입한 자동차는 이번 진입한 자동차의 최적 지점 cctv에 나오는 것이 보장된다.\n",
    "            # start-----s-----e-----end-----\n",
    "            else:\n",
    "                end = e\n",
    "        else:\n",
    "            cctv += 1\n",
    "            end = e\n",
    "            \n",
    "    return cctv"
   ]
  },
  {
   "cell_type": "code",
   "execution_count": 3,
   "metadata": {},
   "outputs": [],
   "source": [
    "def solution(routes):\n",
    "    cctv = 1\n",
    "    routes.sort()\n",
    "    \n",
    "    _, end = routes[0]\n",
    "    \n",
    "    for s, e in routes[1:]:\n",
    "        if s <= end:\n",
    "            if end <= e:\n",
    "                continue\n",
    "            else: \n",
    "                end = e\n",
    "        else:\n",
    "            cctv += 1\n",
    "            end = e\n",
    "    \n",
    "    return cctv"
   ]
  },
  {
   "cell_type": "markdown",
   "metadata": {},
   "source": [
    "# Valid Triangle Number\n",
    "\n",
    "- Greedy, Two pointer"
   ]
  },
  {
   "cell_type": "code",
   "execution_count": 9,
   "metadata": {},
   "outputs": [],
   "source": [
    "def triangleNumber(nums: List[int]) -> int:\n",
    "    # 삼각형 성립 조건: 세 변 A, B, C에서 가장 긴 변의 길이를 C라고 할 때, A + B >  C를 만족해야함\n",
    "    feasible = 0\n",
    "    nums.sort()\n",
    "    \n",
    "    n = len(nums) - 1\n",
    "    # 투포인터로 왼쪽은 최소, 오른쪽은 출발점의 왼쪽 인덱스(출발점 다음으로 제일 큰 값)\n",
    "    for i in range(n, 1, -1):\n",
    "        l, r = 0, i - 1\n",
    "        # while문 내에서 포인터를 이동하는 작업이 최적 부분 구조를 만족하며 동시에 투 포인터는 다시 초기화되기 때문에\n",
    "        # 탐욕적 선택 속성을 동시에 만족한다.\n",
    "        while l < r:\n",
    "            if nums[l] + nums[r] > nums[i]:\n",
    "                feasible += r - l\n",
    "                r -= 1\n",
    "            else:\n",
    "                l += 1\n",
    "    \n",
    "    return feasible"
   ]
  },
  {
   "cell_type": "markdown",
   "metadata": {},
   "source": [
    "# Candy"
   ]
  },
  {
   "cell_type": "code",
   "execution_count": 14,
   "metadata": {},
   "outputs": [],
   "source": [
    "# Children with a higher rating get more candies than their neighbors\n",
    "# 구해야하는 것: 주어진 ratings에서 필요한 사탕의 최소 개수\n",
    "# 이번 문제는 어렵지 않지만 만약 문제가 다음과 같았다면?\n",
    "# 사탕의 개수가 주어졌을 때, 사탕을 모두 사용하여 사탕을 가장 균형있게 주도록 ~~~ => 탐욕적 선택 속성을 만족하지 못함, DP\n",
    "def candy(ratings: List[int]) -> int:\n",
    "    n = len(ratings)\n",
    "    counts = [1] * n\n",
    "    \n",
    "    # left to right\n",
    "    # 이때는 단순히 오른쪽의 ratings가 더 크면 오른쪽 counts에 사탕을 하나 더 주면 되지만\n",
    "    for i in range(n-1):\n",
    "        if ratings[i] < ratings[i+1]:\n",
    "            counts[i+1] = counts[i] + 1\n",
    "    # right to left\n",
    "    # 이때는 왼쪽이 크더라도 그 이유가 있을 것이므로, 오른쪽보다 하나 더 주는 경우와 현재 왼쪽의 경우를 비교한다.\n",
    "    # 지금은 왼쪽에서 오른쪽으로 오면서 최적화된 counts에서 놓친 부분만 확인\n",
    "    for i in range(n-1, 0, -1):\n",
    "        if ratings[i] < ratings[i-1]:\n",
    "            counts[i-1] = max(counts[i-1], counts[i] + 1)\n",
    "            \n",
    "    return counts"
   ]
  }
 ],
 "metadata": {
  "kernelspec": {
   "display_name": "Python 3",
   "language": "python",
   "name": "python3"
  },
  "language_info": {
   "codemirror_mode": {
    "name": "ipython",
    "version": 3
   },
   "file_extension": ".py",
   "mimetype": "text/x-python",
   "name": "python",
   "nbconvert_exporter": "python",
   "pygments_lexer": "ipython3",
   "version": "3.8.3"
  }
 },
 "nbformat": 4,
 "nbformat_minor": 4
}
