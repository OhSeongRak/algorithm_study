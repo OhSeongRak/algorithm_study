{
 "cells": [
  {
   "cell_type": "code",
   "execution_count": 3,
   "metadata": {},
   "outputs": [],
   "source": [
    "from typing import *"
   ]
  },
  {
   "cell_type": "markdown",
   "metadata": {},
   "source": [
    "# search 2D matrix"
   ]
  },
  {
   "cell_type": "code",
   "execution_count": 1,
   "metadata": {},
   "outputs": [],
   "source": [
    "# 만약 먼저 행을 기준 잡아 이진 검색을 실행한 다음 열을 기준으로 이진 검색을 실행한 다음\n",
    "# 행을 기준 잡아 한번 더 이진 검색을 실행하면 그 행에 있다는 보장이 없으니,\n",
    "# 모든 열을 둘러보는 O(n)작업이 더 소요될 수 있음\n",
    "\n",
    "# 그냥 이진탐색 말고, any()사용하면 제일 효율적일텐데\n",
    "def searchMatrix(matrix, target) -> bool:\n",
    "        return any(target in row for row in matrix)\n",
    "    \n",
    "# 아니고서는...\n",
    "# list[col][row]에서 한 지점 잡고, 이동할 때 비교하여 크면 오른쪽이나 아래로 이동하면... 시작부터 두 갈래길이겠다\n",
    "# 처음 처리 때문에 첫 행의 오른쪽 지점에서 잡아서 작으면 왼쪽, 크면 아래로 이동하면 되네"
   ]
  },
  {
   "cell_type": "markdown",
   "metadata": {},
   "source": [
    "# capacity to ship packages within D days"
   ]
  },
  {
   "cell_type": "code",
   "execution_count": 14,
   "metadata": {},
   "outputs": [],
   "source": [
    "# 문제의 목적이.. 리스트를 days등분한 리스트의 총합이 최소가 되도록\n",
    "# 정렬되어진 상태도 아니고 순서대로니 정렬하면 안되니까... 당장 최적을 찾다보면? => Greedy Algorithm\n",
    "# 1. 탐욕적 선택 속성 : 앞의 선택이 이후의 선택에 영향을 주지 않는다 => 는 아니구나\n",
    "# 2. 최적 부분 구조 : 문제에 대한 최종 해결 방법은 부분 문제에 대한 최적 문제 해결 방법으로 구성된다\n",
    "# 사용은 할 수 있어도 Greedy Algorithm이 정답에 도달한다는 보장이 없네\n",
    "\n",
    "weights = [1, 2, 3, 4, 5, 6, 7, 8, 9, 10]\n",
    "days = 5"
   ]
  },
  {
   "cell_type": "code",
   "execution_count": 29,
   "metadata": {},
   "outputs": [],
   "source": [
    "# 어떻게 Binary Search를 이용하는 문제일까?\n",
    "# BEST CODE에 대한 설명: https://leetcode.com/problems/capacity-to-ship-packages-within-d-days/discuss/769698/Python-Clear-explanation-Powerful-Ultimate-Binary-Search-Template.-Solved-many-problems.\n",
    "\n",
    "# search space, search target에 대한 설정을 못했으니 condition()을 작성하는 것이 어려웠구나\n",
    "# when can we use binary search? If we can discover some kind of monotonicity, for example, if condition(k) is True then condition(k + 1) is True, then we can consider binary search.\n",
    "\n",
    "# capacity(m)으로 D days안에 가능하다면, capacity(m)보다 큰 어떠한 m으로도 D days안에는 무조건 가능하겠다 => monotonocity problem으로 정의\n",
    "# conditioin function(feasible)에서는, capacity를 주고, D days안에 가능한지를 return\n",
    "# => in a greedy way! 당장의 weights[i]가 주어진 capacity보다 적다면, 일단 컨베이어 벨트에 더 올리자. 혹시 공간이 없다면, 하루 더 기다리자.\n",
    "# 예상 : 그렇다면 capacity가 left에서 right로 이동하며 움직이겠구나\n",
    "# 주어진 capacity만큼 올릴 수 있을만큼 다 올렸봤는데, 최적으로 올리다보니 D days를 넘는다? return False\n",
    "\n",
    "# left, right boundary는 어떻게 설정해야할까?\n",
    "# left : 최소, capacity는 적어도 weights의 최댓값만큼은 되어야 하루에 하나라도 실을 수 있다\n",
    "# right : 최대, 하루에 다 싣는다해도 weights들의 총합만큼만 있으면 된다.\n",
    "\n",
    "def shipWithinDays(weights: List[int], D: int) -> int:\n",
    "    def feasible(capacity: int) -> bool:\n",
    "        days = 1\n",
    "        total_weight = 0\n",
    "        for weight in weights:\n",
    "            total_weight += weight # 컨베이어 벨트에 weights를 추가하다가\n",
    "            if total_weight > capacity: # 허용된 capacity를 넘으면,\n",
    "                total_weight = weight # 다음 날의 시작은 이번에 추가하지 못한 weight[i]부터 시작한다\n",
    "                days += 1 # 하루를 기다리자\n",
    "                if days > D: # 그런데 주어진 Days를 넘으면, 실패\n",
    "                    return False\n",
    "        return True\n",
    "    \n",
    "    # Binary Search\n",
    "    left, right = max(weights), sum(weights)\n",
    "    while left < right: # O(logn)\n",
    "        mid = left + (right - left) // 2\n",
    "        if feasible(mid): # O(n)\n",
    "            right = mid\n",
    "        else:\n",
    "            left = mid + 1\n",
    "        # print(f'left = {left}, right = {right}, mid = {mid}')\n",
    "    \n",
    "    return left\n",
    "\n",
    "# Big-O : O(nlog(n))\n",
    "\n",
    "# 예제의 weights = [1, 2, 3, 4, 5, 6, 7, 8, 9, 10], days = 5로 시작해보면,\n",
    "# left = 10, right = 55, mid = 32, feasible! right = mid\n",
    "# left = 10, right = 32, mid = 21, feasible! rgiht = mid\n",
    "# left = 10, right = 21, mid = 15, feasible! right = mid\n",
    "# left = 10, right = 15, mid = 12, not feasible! left = mid + 1\n",
    "# left = 13, right = 15, mid = 14, not feasible! left = mid + 1\n",
    "# left = 15, right = 15, left not smaller than right! return left(15)"
   ]
  },
  {
   "cell_type": "code",
   "execution_count": 30,
   "metadata": {},
   "outputs": [
    {
     "data": {
      "text/plain": [
       "15"
      ]
     },
     "execution_count": 30,
     "metadata": {},
     "output_type": "execute_result"
    }
   ],
   "source": [
    "shipWithinDays(weights, days)"
   ]
  },
  {
   "cell_type": "markdown",
   "metadata": {},
   "source": [
    "# MinMaxDivision"
   ]
  },
  {
   "cell_type": "code",
   "execution_count": 46,
   "metadata": {},
   "outputs": [],
   "source": [
    "# 결국 위의 문제와 같은 원리의 Binary Search\n",
    "# left = 리스트의 최댓값, right = 리스트 원소의 총합\n",
    "\n",
    "def solution(K: int, M: int, A: List[int]):\n",
    "    def allowed(tolerance: int) -> bool:\n",
    "        bounary = 1\n",
    "        total = 0\n",
    "        for elem in A:\n",
    "            total += elem\n",
    "            if total > tolerance:\n",
    "                total = elem\n",
    "                bounary += 1\n",
    "                if bounary > K:\n",
    "                    return False\n",
    "        return True\n",
    "    \n",
    "    left, right = max(A), sum(A)\n",
    "    \n",
    "    while left < right:\n",
    "        mid = left + (right - left) // 2\n",
    "        if allowed(mid):\n",
    "            right = mid\n",
    "        else:\n",
    "            left = mid + 1\n",
    "    \n",
    "    return left"
   ]
  },
  {
   "cell_type": "code",
   "execution_count": 47,
   "metadata": {},
   "outputs": [
    {
     "data": {
      "text/plain": [
       "6"
      ]
     },
     "execution_count": 47,
     "metadata": {},
     "output_type": "execute_result"
    }
   ],
   "source": [
    "K, M, A = 3, 5, [2,1,5,1,2,2,2]\n",
    "solution(K,M,A)"
   ]
  },
  {
   "cell_type": "code",
   "execution_count": null,
   "metadata": {},
   "outputs": [],
   "source": []
  }
 ],
 "metadata": {
  "kernelspec": {
   "display_name": "Python 3",
   "language": "python",
   "name": "python3"
  },
  "language_info": {
   "codemirror_mode": {
    "name": "ipython",
    "version": 3
   },
   "file_extension": ".py",
   "mimetype": "text/x-python",
   "name": "python",
   "nbconvert_exporter": "python",
   "pygments_lexer": "ipython3",
   "version": "3.8.3"
  }
 },
 "nbformat": 4,
 "nbformat_minor": 4
}
