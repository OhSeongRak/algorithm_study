{
 "cells": [
  {
   "cell_type": "code",
   "execution_count": 5,
   "metadata": {},
   "outputs": [],
   "source": [
    "from typing import *"
   ]
  },
  {
   "cell_type": "markdown",
   "metadata": {},
   "source": [
    "# Fibonacci, tabulation VS memoization"
   ]
  },
  {
   "cell_type": "code",
   "execution_count": 4,
   "metadata": {},
   "outputs": [],
   "source": [
    "# fibonacci DP\n",
    "# tabulation\n",
    "def fibo_tabu(n):\n",
    "    dp[0], dp[1] = 0, 1\n",
    "    \n",
    "    for i in range(2, n+1):\n",
    "        dp[i] = dp[i-1] + dp[i-2]\n",
    "        \n",
    "    return dp[n]\n",
    "\n",
    "# memoization\n",
    "def fibo_memo(n):\n",
    "    if n <= 1:\n",
    "        return n\n",
    "    \n",
    "    if dp[n]:\n",
    "        return dp[n]\n",
    "    \n",
    "    dp[n] = fibo_memo(n-1) + fibo_memo(n-2)"
   ]
  },
  {
   "cell_type": "markdown",
   "metadata": {},
   "source": [
    "# House Robber"
   ]
  },
  {
   "cell_type": "code",
   "execution_count": 35,
   "metadata": {},
   "outputs": [],
   "source": [
    "nums = [2, 7, 9, 3, 1]"
   ]
  },
  {
   "cell_type": "code",
   "execution_count": 6,
   "metadata": {},
   "outputs": [],
   "source": [
    "# tabulation\n",
    "def rob(nums: List[int]) -> int:\n",
    "    if len(nums) <= 2:\n",
    "        return max(nums)\n",
    "    \n",
    "    dp = dict()\n",
    "    dp[0], dp[1] = nums[0], max(nums[0], nums[1])\n",
    "    \n",
    "    for i in range(2, len(nums)):\n",
    "        dp[i] = max(dp[i-1], dp[i-2] + nums[i])\n",
    "        \n",
    "    return dp.popitem()[1]\n",
    "\n",
    "# in discuss board\n",
    "# 만약 dp[i]를 구할 때 max로 dp[i-1]이 나온다면, 이번 집은 선택하지 않는 경우이므로 아래와 같이 표현할 수 있음\n",
    "# space complexity: O(N) -> O(1)\n",
    "def rob_less_space(nums):\n",
    "    last, now = 0, 0\n",
    "    for num in nums:\n",
    "        last, now = now, max(last + num, now)\n",
    "        \n",
    "    return now"
   ]
  },
  {
   "cell_type": "code",
   "execution_count": 46,
   "metadata": {},
   "outputs": [],
   "source": [
    "# memoization\n",
    "from collections import defaultdict\n",
    "\n",
    "class Solution:\n",
    "    def rob(self, nums: List[int]) -> int:\n",
    "        if len(nums) <= 2:\n",
    "            return max(nums)\n",
    "        \n",
    "        self.memo = defaultdict()\n",
    "        self.memo[0], self.memo[1] = nums[0], max(nums[0], nums[1])\n",
    "        \n",
    "        self._rob(len(nums) - 1, nums)\n",
    "        \n",
    "        return self.memo.popitem()[1]\n",
    "    \n",
    "    def _rob(self, i, nums):\n",
    "        if i < 0:\n",
    "            return 0\n",
    "        elif i in self.memo:\n",
    "            return self.memo[i]\n",
    "        \n",
    "        self.memo[i] = max(self._rob(i-1, nums), self._rob(i-2, nums) + nums[i])\n",
    "        \n",
    "        return self.memo[i]"
   ]
  },
  {
   "cell_type": "markdown",
   "metadata": {},
   "source": [
    "# Minimum Path Sum"
   ]
  },
  {
   "cell_type": "code",
   "execution_count": 47,
   "metadata": {},
   "outputs": [],
   "source": [
    "grid = [[1,3,1],[1,5,1],[4,2,1]]"
   ]
  },
  {
   "cell_type": "code",
   "execution_count": 73,
   "metadata": {},
   "outputs": [],
   "source": [
    "# 특정 지점으로 오는 최소 경로를 갱신해나간다. => tabulation\n",
    "# 끝 지점으로부터, 오는 경로들을 계산 => memoization\n",
    "import sys\n",
    "\n",
    "class Solution:\n",
    "    def minPathSum(self, grid: List[List[int]]) -> int:\n",
    "        self.memo = defaultdict(lambda: sys.maxsize)\n",
    "        m, n = len(grid), len(grid[0])\n",
    "        \n",
    "        self.memo[(0, 0)] = grid[0][0]\n",
    "        \n",
    "        def _path_sum(x, y):\n",
    "            if not 0 <= x < m or not 0 <= y < n:\n",
    "                return sys.maxsize\n",
    "            \n",
    "            if (x, y) in self.memo:\n",
    "                return self.memo[(x, y)]\n",
    "\n",
    "            self.memo[(x, y)] = min(_path_sum(x-1, y), _path_sum(x, y-1)) + grid[x][y]\n",
    "            \n",
    "            return self.memo[(x, y)]\n",
    "        \n",
    "        return _path_sum(m-1, n-1)"
   ]
  },
  {
   "cell_type": "markdown",
   "metadata": {},
   "source": [
    "# Jump Game"
   ]
  },
  {
   "cell_type": "code",
   "execution_count": null,
   "metadata": {},
   "outputs": [],
   "source": [
    "# 현 위치에 적힌 만큼의 윈도우에서 최댓값만 찾으면 되는 문제지만\n",
    "# dp로는... 뒤에서부터 오면서, memoization과 흡사\n",
    "\n",
    "class Solution:\n",
    "    def canJump(self, nums: List[int]) -> bool:\n",
    "        if len(nums) == 1:\n",
    "            return True\n",
    "        \n",
    "        cur_last = len(nums)-1\n",
    "        for i in range(len(nums)-1, -1, -1):\n",
    "            if i + nums[i] >= cur_last:\n",
    "                cur_last = i\n",
    "        \n",
    "        return True if "
   ]
  }
 ],
 "metadata": {
  "kernelspec": {
   "display_name": "Python 3",
   "language": "python",
   "name": "python3"
  },
  "language_info": {
   "codemirror_mode": {
    "name": "ipython",
    "version": 3
   },
   "file_extension": ".py",
   "mimetype": "text/x-python",
   "name": "python",
   "nbconvert_exporter": "python",
   "pygments_lexer": "ipython3",
   "version": "3.8.3"
  }
 },
 "nbformat": 4,
 "nbformat_minor": 4
}
